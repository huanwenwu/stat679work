{
 "cells": [
  {
   "cell_type": "code",
   "execution_count": 15,
   "metadata": {
    "collapsed": false
   },
   "outputs": [],
   "source": [
    "energy = \"energy.csv\"\n",
    "waterTemperature = \"waterTemperature.csv\"\n",
    "\n",
    "data_time=[]\n",
    "energy_produced=[]\n",
    "with open(energy,'r') as e:\n",
    "    lines_e = e.readlines()\n",
    "    for i in range(1,len(lines_e)-1):\n",
    "        time=lines_e[i].split()[0]\n",
    "        wh=float(lines_e[i].split(',')[1])/1000\n",
    "        data_time.append(time)\n",
    "        energy_produced.append(wh)\n",
    "\n",
    "for i in range(len(data_time)-1):\n",
    "    if data_time[i] <= data_time[i+1]:\n",
    "        continue\n",
    "    else:\n",
    "        print \"Not Ordered!\"\n",
    "        exit()\n",
    "        \n",
    "data_time_t=[]\n",
    "water_temp=[]\n",
    "num=[]\n",
    "with open(waterTemperature,'r') as w:\n",
    "    lines_w = w.readlines()\n",
    "    for i in range(2,len(lines_w)):\n",
    "        temp=lines_w[i].split()[2]\n",
    "        temp2=temp.split(',')[1]\n",
    "        water_temp.append(temp2)\n",
    "        tim=lines_w[i].split(',')[1]\n",
    "        data_time_t.append(tim)\n",
    "        num.append(lines_w[i].split(',')[0])\n",
    "\n",
    "match_energy=[]\n",
    "for i in range(len(num)):    \n",
    "    mon_t=data_time_t[i][0:2]\n",
    "    day_t=data_time_t[i][3:5]\n",
    "    mon_e=data_time[len(data_time)-1][5:7]\n",
    "    day_e=data_time[len(data_time)-1][8:10]\n",
    "    timedata= \"2016\"+\"-\"+mon_t+\"-\"+day_t\n",
    "    timedata2=data_time.index(timedata)+1\n",
    "    if (  int(mon_t) > int(mon_e) or ( int(mon_t) == int(mon_e) and int(day_t)>=int(day_e) ) ):\n",
    "        match_energy.append(\"NA\")\n",
    "    else:\n",
    "        match_energy.append(str(energy_produced[timedata2]))\n",
    "\n",
    "with open('merged_data.csv','w') as f:\n",
    "    f.write(\"Plot Title: 10679014 jackson July29\\n\")\n",
    "    f.write(\"#\"+\",\"+\"Date Time\"+\",\"+\"GMT-05:00,K-Type\"+\",\"+\"Wh/1000\"+\"\\n\")\n",
    "    for i in range(len(num)):\n",
    "        f.write(num[i]+\",\"+data_time_t[i]+\",\"+water_temp[i]+\",\"+match_energy[i]+\"\\n\")\n",
    "            \n",
    "      "
   ]
  }
 ],
 "metadata": {
  "anaconda-cloud": {},
  "kernelspec": {
   "display_name": "Python [conda root]",
   "language": "python",
   "name": "conda-root-py"
  },
  "language_info": {
   "codemirror_mode": {
    "name": "ipython",
    "version": 3
   },
   "file_extension": ".py",
   "mimetype": "text/x-python",
   "name": "python",
   "nbconvert_exporter": "python",
   "pygments_lexer": "ipython3",
   "version": "3.5.2"
  }
 },
 "nbformat": 4,
 "nbformat_minor": 1
}
